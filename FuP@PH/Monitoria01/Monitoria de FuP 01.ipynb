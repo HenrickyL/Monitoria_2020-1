{
 "cells": [
  {
   "cell_type": "code",
   "execution_count": 1,
   "metadata": {},
   "outputs": [
    {
     "name": "stdout",
     "output_type": "stream",
     "text": [
      "Pixiedust database opened successfully\n"
     ]
    },
    {
     "data": {
      "text/html": [
       "\n",
       "        <div style=\"margin:10px\">\n",
       "            <a href=\"https://github.com/ibm-watson-data-lab/pixiedust\" target=\"_new\">\n",
       "                <img src=\"https://github.com/ibm-watson-data-lab/pixiedust/raw/master/docs/_static/pd_icon32.png\" style=\"float:left;margin-right:10px\"/>\n",
       "            </a>\n",
       "            <span>Pixiedust version 1.1.18</span>\n",
       "        </div>\n",
       "        "
      ],
      "text/plain": [
       "<IPython.core.display.HTML object>"
      ]
     },
     "metadata": {},
     "output_type": "display_data"
    },
    {
     "data": {
      "text/html": [
       "\n",
       "            <div style=\"margin:10px\"> \n",
       "            <a href=\"https://github.com/ibm-cds-labs/pixiedust_node\" target=\"_new\"> \n",
       "            <img src=\"https://github.com/ibm-cds-labs/pixiedust_node/raw/master/docs/_images/pdn_icon32.png\" style=\"float:left;margin-right:10px\"/> \n",
       "            </a> \n",
       "            <span>Pixiedust Node.js</span> \n",
       "            </div> \n"
      ],
      "text/plain": [
       "<IPython.core.display.HTML object>"
      ]
     },
     "metadata": {},
     "output_type": "display_data"
    }
   ],
   "source": [
    "import pixiedust_node"
   ]
  },
  {
   "cell_type": "markdown",
   "metadata": {},
   "source": [
    "# Monitoria FuP DD prof PH\n",
    "-------------\n",
    "## Motivação\n",
    "- [ ] Cadeiras de Programação do curso de DD\n",
    "- [ ] *Monitoria_2020-1/FuP@PH/1.Teste/img/curriculo.png*\n",
    "\n",
    "## Requisitos\n",
    "- [Visual Studio Code](https://code.visualstudio.com/download)\n",
    "- [NodeJS](https://nodejs.org/en/download/)\n",
    "\n",
    "## Conteúdo\n",
    "- [ ] **O que é algoritmo?**\n",
    "- [ ] **Pseudo-código**\n",
    "- [ ] **Tipos de dados**\n",
    "- [ ] **Operadores:**\n",
    "    - Aritmético\n",
    "    - Relacionais\n",
    "    - Logicos\n",
    "- [ ] **Tabela verdade**\n",
    "- [ ] **Introdução a Linguagem**\n",
    "    - [ ] Comentários\n",
    "    - [ ] Entrada e saída de dados*\n",
    "    - [ ] Estrutura de decisão\n",
    "    - [ ] Repeticão \n",
    "    - [ ] Listas vetores\n",
    "    - [ ] Funções\n",
    "    - [ ] ...\n",
    "\n",
    "## Links\n",
    "- [Playlist Curso JS](https://www.youtube.com/watch?v=BXqUH86F-kA&list=PLHz_AreHm4dlsK3Nr9GVvXCbpQyHQl1o1)\n",
    "- [Curso JS](https://pt.khanacademy.org/computing/computer-programming/programming)\n",
    "- [GitHub](https://github.com/HenrickyL/Monitoria_2020-1) \n",
    "\n",
    "----------------------"
   ]
  },
  {
   "cell_type": "markdown",
   "metadata": {},
   "source": [
    "## Algoritmo\n",
    "Sequência de passos para se resolver um problema.\n",
    "\n",
    "* **Fazer miojo**\n",
    "    - Abre saco\n",
    "    - coloca agua para ferver\n",
    "    - coloca o macarrão\n",
    "    - espera 3 min\n",
    "    - coloca o sache\n",
    "    \n",
    "## Pseudocódigo \n",
    "\n",
    "é uma forma genérica de escrever um algoritmo, utilizando uma linguagem simples (nativa a quem o escreve, de forma a ser entendida por qualquer pessoa) sem necessidade de conhecer a sintaxe de nenhuma linguagem de programação.\n",
    "    \n",
    "## Tipos de dados\n",
    "\n",
    "* **Inteiro:** 1 ,2 ,7 1000, -10\n",
    "* **Float(Real):** 1.4 3/2, -1.3\n",
    "* **Char:** 'a', 'b', 'c'\n",
    "* **String:** \"abacate\", \"cenoura\", \"nome\"\n",
    "* **Booloano:** True, False\n",
    "\n",
    "## Operadores:\n",
    "* **Aritmeticos:** +, -, /,*, %\n",
    "    - Opera sobre Int e Float\n",
    "* **Relacionais:** >,<,>=,<=, !=\n",
    "    - Opera sobre Int, Float, Char, String\n",
    "* **Lógicos:** E (&&), Ou(||), não(!)\n",
    "    - Opera sobre Boolean"
   ]
  },
  {
   "cell_type": "code",
   "execution_count": 5,
   "metadata": {},
   "outputs": [
    {
     "name": "stdout",
     "output_type": "stream",
     "text": [
      "<class 'int'>\n",
      "<class 'float'>\n",
      "<class 'str'>\n",
      "<class 'str'>\n",
      "<class 'bool'>\n"
     ]
    }
   ],
   "source": [
    "#python\n",
    "a = 6\n",
    "print(type(a))\n",
    "b = 1.2\n",
    "print(type(b))\n",
    "c = 'a'\n",
    "print(type(c))\n",
    "d = \"abacate\"\n",
    "print(type(d))\n",
    "e = False\n",
    "print(type(e))\n",
    "\n"
   ]
  },
  {
   "cell_type": "code",
   "execution_count": 11,
   "metadata": {
    "scrolled": true
   },
   "outputs": [
    {
     "name": "stdout",
     "output_type": "stream",
     "text": [
      "soma:  11\n",
      "subtração:  5\n",
      "Multiplicação:  24\n",
      "Divisão:  2.6666666666666665\n",
      "Resto:  2\n"
     ]
    }
   ],
   "source": [
    "#python\n",
    "    #aritmetico\n",
    "a =8\n",
    "b = 3\n",
    "print(\"soma: \",a+b)\n",
    "print(\"subtração: \",a-b)\n",
    "print(\"Multiplicação: \",a*b)\n",
    "print(\"Divisão: \",a/b)\n",
    "print(\"Resto: \",a%b) \n",
    "\n",
    "\n"
   ]
  },
  {
   "cell_type": "code",
   "execution_count": 17,
   "metadata": {},
   "outputs": [
    {
     "name": "stdout",
     "output_type": "stream",
     "text": [
      "5  maior que  6 :  False\n",
      "5  menor que  6 :  True\n",
      "5  maior ou igual  6 :  False\n",
      "5  menor ou igual  6 :  True\n",
      "5  não igual  6 :  True\n"
     ]
    }
   ],
   "source": [
    "#python   \n",
    "    #relacionais\n",
    "a=5\n",
    "b=6\n",
    "print(a,\" maior que \", b,\": \", a>b)\n",
    "print(a,\" menor que \", b,\": \", a<b)\n",
    "print(a,\" maior ou igual \", b,\": \", a>=b)\n",
    "print(a,\" menor ou igual \", b,\": \", a<=b)\n",
    "print(a,\" não igual \", b,\": \", a!=b)\n"
   ]
  },
  {
   "cell_type": "code",
   "execution_count": 19,
   "metadata": {},
   "outputs": [
    {
     "name": "stdout",
     "output_type": "stream",
     "text": [
      "True  e  True True\n",
      "True  ou  True True\n",
      "não  True False\n",
      "não  True False\n"
     ]
    }
   ],
   "source": [
    "#python\n",
    "    # Lógicos\n",
    "a = True\n",
    "b = True\n",
    "print(a,\" e \",b,a and b)\n",
    "print(a,\" ou \",b,a or b)\n",
    "print(\"não \",a,not a)\n",
    "print(\"não \",b,not b)"
   ]
  },
  {
   "cell_type": "code",
   "execution_count": 20,
   "metadata": {},
   "outputs": [
    {
     "name": "stdout",
     "output_type": "stream",
     "text": [
      "Uncaught\n",
      "Olá Mundo\n"
     ]
    }
   ],
   "source": [
    "%%node  # js\n",
    "#saida de dados\n",
    "console.log(\"Olá Mundo\")"
   ]
  },
  {
   "cell_type": "code",
   "execution_count": 21,
   "metadata": {},
   "outputs": [
    {
     "name": "stdout",
     "output_type": "stream",
     "text": [
      "resultado x+5 é 12\n"
     ]
    }
   ],
   "source": [
    "#python\n",
    "    #saída\n",
    "x = 7\n",
    "print(\"resultado x+5 é\", x+5)"
   ]
  },
  {
   "cell_type": "code",
   "execution_count": 22,
   "metadata": {},
   "outputs": [
    {
     "name": "stdout",
     "output_type": "stream",
     "text": [
      "Henricku\n",
      "Oi, Henricku , Tudo bem?\n"
     ]
    }
   ],
   "source": [
    "#python\n",
    "    #entrada\n",
    "a = input() # recebe dados\n",
    "print(\"Oi,\",a,\", Tudo bem?\") # saída"
   ]
  },
  {
   "cell_type": "code",
   "execution_count": 23,
   "metadata": {},
   "outputs": [
    {
     "name": "stdout",
     "output_type": "stream",
     "text": [
      "Digite 2 numeros:\n",
      "5\n",
      "7\n",
      "12\n"
     ]
    }
   ],
   "source": [
    "print(\"Digite 2 numeros:\")\n",
    "a = int(input()) #leia\n",
    "b = int(input())\n",
    "print(a+b) # Escreva\n"
   ]
  },
  {
   "cell_type": "code",
   "execution_count": null,
   "metadata": {},
   "outputs": [],
   "source": []
  }
 ],
 "metadata": {
  "kernelspec": {
   "display_name": "Python 3",
   "language": "python",
   "name": "python3"
  },
  "language_info": {
   "codemirror_mode": {
    "name": "ipython",
    "version": 3
   },
   "file_extension": ".py",
   "mimetype": "text/x-python",
   "name": "python",
   "nbconvert_exporter": "python",
   "pygments_lexer": "ipython3",
   "version": "3.8.2"
  }
 },
 "nbformat": 4,
 "nbformat_minor": 4
}
