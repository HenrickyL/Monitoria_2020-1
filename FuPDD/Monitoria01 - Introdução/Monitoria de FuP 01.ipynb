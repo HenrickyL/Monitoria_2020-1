{
 "cells": [
  {
   "cell_type": "markdown",
   "metadata": {},
   "source": [
    "# Monitoria FuP DD prof PH\n",
    "-------------\n",
    "## Motivação\n",
    "- [ ] Cadeiras de Programação do curso de DD\n",
    "- [ ] *Monitoria_2020-1/FuP@PH/1.Teste/img/curriculo.png*\n",
    "\n",
    "## Requisitos\n",
    "- [Visual Studio Code](https://code.visualstudio.com/download)\n",
    "- [NodeJS](https://nodejs.org/en/download/)\n",
    "\n",
    "## Conteúdo\n",
    "- [ ] **O que é algoritmo?**\n",
    "- [ ] **Pseudo-código**\n",
    "- [ ] **Tipos de dados**\n",
    "- [ ] **Operadores:**\n",
    "    - Aritmético\n",
    "    - Relacionais\n",
    "    - Logicos\n",
    "- [ ] **Tabela verdade**\n",
    "- [ ] **Introdução a Linguagem**\n",
    "    - [ ] Comentários\n",
    "    - [ ] Entrada e saída de dados*\n",
    "    - [ ] Estrutura de decisão\n",
    "    - [ ] Repeticão \n",
    "    - [ ] Listas vetores\n",
    "    - [ ] Funções\n",
    "    - [ ] ...\n",
    "\n",
    "## Links\n",
    "- [Playlist Curso JS](https://www.youtube.com/watch?v=BXqUH86F-kA&list=PLHz_AreHm4dlsK3Nr9GVvXCbpQyHQl1o1)\n",
    "- [Curso JS](https://pt.khanacademy.org/computing/computer-programming/programming)\n",
    "- [Repositório GitHub](https://github.com/HenrickyL/Monitoria_2020-1) \n",
    "- [Curso de Lógica de programação](https://www.youtube.com/watch?v=8mei6uVttho&list=PLHz_AreHm4dmSj0MHol_aoNYCSGFqvfXV)\n",
    "----------------------"
   ]
  },
  {
   "cell_type": "markdown",
   "metadata": {},
   "source": [
    "## Algoritmo\n",
    "Conjunto de passos **Finitos** e **Organizados** que, quando executados, resolvem um determinado **Problema**.\n",
    "\n",
    "* **Fazer miojo**\n",
    "    - Abre saco\n",
    "    - coloca agua para ferver\n",
    "    - coloca o macarrão\n",
    "    - espera 3 min\n",
    "    - coloca o sache\n",
    "    \n",
    "## Pseudocódigo \n",
    "\n",
    "é uma forma genérica de escrever um algoritmo, utilizando uma linguagem simples (nativa a quem o escreve, de forma a ser entendida por qualquer pessoa) sem necessidade de conhecer a sintaxe de nenhuma linguagem de programação.\n",
    "\n",
    "```\n",
    "  Finito, Organizado e resolve | Finito, Organizado, não-Resesolve o problema\n",
    "  Bem Ordenado                 | Desordenado\n",
    "-----------------------------------------------------------------\n",
    "Algoritmo AtravessarRua        | Algoritimo AtravessarRua\n",
    "    Olhar para a Direita       |     Atravesse\n",
    "    Olhar para a Esquerda      |     Se tiver vindo carro\n",
    "    Se estiver vindo carro     |          Olhe para a direita\n",
    "        Não atravesse          |     Senão\n",
    "    Senão                      |          Olhe para a esquerda\n",
    "        Atravesse              |     Fim-Se\n",
    "    Fim-Se                     |     Não atravesse\n",
    "Fim-Algoritmo                  | Fim-Algoritmo\n",
    "\n",
    "```\n",
    "\n",
    "## Tipos de dados\n",
    "\n",
    "* **Inteiro:** 1 ,2 ,7 1000, -10 ($\\mathbb{Z}$)\n",
    "* **Float(Real):** 1.4 3/2, -1.3 ($\\mathbb{R}$)\n",
    "* **Char:** 'a', 'b', 'c'\n",
    "* **String:** \"abacate\", \"cenoura\", \"nome\"\n",
    "* **Booloano:** True, False\n",
    "\n",
    "## Operadores:\n",
    "* **Aritmeticos:** +, -, /, *, %\n",
    "    - Opera sobre Int e Float\n",
    "~~~\n",
    "//Operadores Artitmeticos\n",
    "// x + y                      x mais y\n",
    "// x - y                      x menos y\n",
    "// x * y                       x vezes y\n",
    "// x / y                       x dividido por y\n",
    "// x % y                      x resto da divisão por y\n",
    "~~~\n",
    "* **Relacionais:** >, <, >=, <=, !=\n",
    "    - Opera sobre Int, Float, Char, String\n",
    "~~~\n",
    "//Operadores de comparação\n",
    "// x == y                      x igual y  (Erro Comum: x=y)\n",
    "// x != y                      x não igual y\n",
    "// x > y                       x Maior que y\n",
    "// x < y                       x Menor que y\n",
    "// x >= y                      x Maior ou igual y\n",
    "// x <= y                      x Menor ou igual y\n",
    "~~~\n",
    "* **Lógicos:** E (&&), Ou(||), não(!)\n",
    "    - Opera sobre Boolean\n",
    "~~~\n",
    "//Operadores de combinação e negação -  Valores lógicos P e Q\n",
    "// P && Q                      P e Q\n",
    "// P || Q                      P uu Q\n",
    "// ! P                         Não P \n",
    "~~~"
   ]
  },
  {
   "cell_type": "code",
   "execution_count": 15,
   "metadata": {
    "scrolled": true
   },
   "outputs": [
    {
     "name": "stdout",
     "output_type": "stream",
     "text": [
      "<class 'int'>\n",
      "<class 'float'>\n",
      "<class 'str'>\n",
      "<class 'str'>\n",
      "<class 'bool'>\n"
     ]
    }
   ],
   "source": [
    "#python\n",
    "#Variaveis\n",
    "#comentário - Todo bloco de código que não é visto pelo interpretador ou compilador\n",
    "a = 6\n",
    "print(type(a))\n",
    "b = 1.2\n",
    "print(type(b))\n",
    "c = 'a'\n",
    "print(type(c))\n",
    "d = \"abacate\"\n",
    "print(type(d))\n",
    "e = False\n",
    "print(type(e))\n",
    "\n"
   ]
  },
  {
   "cell_type": "code",
   "execution_count": 37,
   "metadata": {},
   "outputs": [
    {
     "name": "stdout",
     "output_type": "stream",
     "text": [
      "O neme dela é  Jenifer\n",
      "Escreva seu nome: henricky\n",
      "olá  henricky\n"
     ]
    }
   ],
   "source": [
    "#python\n",
    "# Entrada e saída de dados\n",
    "    #saida\n",
    "yyy = \"Jenifer\" #atribuição de variavel\n",
    "print(\"O neme dela é \", yyy) # saida de dados -  mostrar para o usuário\n",
    "    #entrada\n",
    "nome = input(\"Escreva seu nome: \") # entrada de dados\n",
    "print(\"olá \", nome)"
   ]
  },
  {
   "cell_type": "code",
   "execution_count": 41,
   "metadata": {
    "scrolled": true
   },
   "outputs": [
    {
     "name": "stdout",
     "output_type": "stream",
     "text": [
      "soma:  21\n",
      "subtração:  -1\n",
      "Multiplicação:  110\n",
      "Divisão:  0.9090909090909091\n",
      "Resto:  10\n"
     ]
    }
   ],
   "source": [
    "#python\n",
    "    #aritmetico\n",
    "a = 10\n",
    "b = 11\n",
    "print(\"soma: \",a+b)\n",
    "print(\"subtração: \",a-b)\n",
    "print(\"Multiplicação: \",a*b)\n",
    "print(\"Divisão: \",a/b)\n",
    "print(\"Resto: \",a%b) \n",
    "\n",
    "\n"
   ]
  },
  {
   "cell_type": "code",
   "execution_count": 49,
   "metadata": {},
   "outputs": [
    {
     "name": "stdout",
     "output_type": "stream",
     "text": [
      "6  maior que  6 :  False\n",
      "6  menor que  6 :  False\n",
      "6  maior ou igual  6 :  True\n",
      "6  menor ou igual  6 :  True\n",
      "6  não igual  6 :  False\n",
      "6  Igual  6 :  True\n"
     ]
    }
   ],
   "source": [
    "#python   \n",
    "    #relacionais\n",
    "a=6\n",
    "b=6\n",
    "print(a,\" maior que \", b,\": \", a>b)\n",
    "print(a,\" menor que \", b,\": \", a<b)\n",
    "print(a,\" maior ou igual \", b,\": \", a>=b)\n",
    "print(a,\" menor ou igual \", b,\": \", a<=b)\n",
    "print(a,\" não igual \", b,\": \", a!=b)\n",
    "print(a,\" Igual \", b,\": \", a==b)\n"
   ]
  },
  {
   "cell_type": "code",
   "execution_count": 50,
   "metadata": {},
   "outputs": [
    {
     "name": "stdout",
     "output_type": "stream",
     "text": [
      "True  e  False False\n",
      "True  ou  False True\n",
      "não  True False\n",
      "não  False True\n"
     ]
    }
   ],
   "source": [
    "#python\n",
    "    # Lógicos\n",
    "a = True\n",
    "b = False\n",
    "print(a,\" e \",b,a and b)\n",
    "print(a,\" ou \",b,a or b)\n",
    "print(\"não \",a,not a)\n",
    "print(\"não \",b,not b)"
   ]
  },
  {
   "cell_type": "code",
   "execution_count": 21,
   "metadata": {},
   "outputs": [
    {
     "name": "stdout",
     "output_type": "stream",
     "text": [
      "resultado x+5 é 12\n"
     ]
    }
   ],
   "source": [
    "#python\n",
    "    #saída\n",
    "x = 7\n",
    "print(\"resultado x+5 é\", x+5)"
   ]
  },
  {
   "cell_type": "code",
   "execution_count": 57,
   "metadata": {},
   "outputs": [
    {
     "name": "stdout",
     "output_type": "stream",
     "text": [
      "Digite seu nome: Henricky\n",
      "Oi, Henricky , Tudo bem?\n"
     ]
    }
   ],
   "source": [
    "#python\n",
    "    #entrada\n",
    "a = input(\"Digite seu nome: \") # recebe dados\n",
    "print(\"Oi,\",a,\", Tudo bem?\") # saída\n",
    "\n",
    "#tipo\n"
   ]
  },
  {
   "cell_type": "code",
   "execution_count": 64,
   "metadata": {},
   "outputs": [
    {
     "name": "stdout",
     "output_type": "stream",
     "text": [
      "11\n"
     ]
    },
    {
     "data": {
      "text/plain": [
       "int"
      ]
     },
     "execution_count": 64,
     "metadata": {},
     "output_type": "execute_result"
    }
   ],
   "source": [
    "#conversão\n",
    "a = \"5\"\n",
    "b = \"6\"\n",
    "a = int(a)\n",
    "b = int(b)\n",
    "print(a+b)\n",
    "type(a)"
   ]
  },
  {
   "cell_type": "code",
   "execution_count": 23,
   "metadata": {},
   "outputs": [
    {
     "name": "stdout",
     "output_type": "stream",
     "text": [
      "Digite 2 numeros:\n",
      "5\n",
      "7\n",
      "12\n"
     ]
    }
   ],
   "source": [
    "print(\"Digite 2 numeros:\")\n",
    "a = int(input()) #leia\n",
    "b = int(input())\n",
    "print(a+b) # Escreva\n"
   ]
  },
  {
   "cell_type": "markdown",
   "metadata": {},
   "source": [
    "-----------------\n",
    "## Introdução JavaScript\n",
    "\n",
    "*JavaScript é uma linguagem de programação que permite **implementar funcionalidades mais complexas em páginas web**. Sempre que uma página web faz **mais do que** apenas mostrar **informações estáticas** para você - ela mostra em tempo real conteúdos atualizados, mapas interativos, animações gráficas em 2D/3D, vídeos, etc. -  você pode apostar que o Javascript provavelmente está envolvido.*\n",
    "\n",
    "\n",
    "* Em web temos 3 ramos principais, e por trás deles as seguintes linguagens:\n",
    "    * **Conteúdo:** HTML\n",
    "    * **Estilo ou Aparência:** CSS\n",
    "    * **Interatividade:** JavaScript\n",
    "\n",
    "\n",
    "* JavaScript é uma linguagem interpretada\n",
    "\n",
    "- **Tipos de Dados:**\n",
    "    * **Number:** encloba int e o float, ou seja todo tipo numérico\n",
    "    * **String:** engloba char e o string, logo todo tipo texto.\n",
    "    * **Boolean:** tipo verdadeiro ou falso.\n",
    "\n",
    "- **Fundamentos:**\n",
    "    - [ ] **Comentários**\n",
    "    ~~~javascript \n",
    "    // comentário de linha\n",
    "    /*\n",
    "        comentário de bloco\n",
    "    */\n",
    "    ~~~\n",
    "    - [ ] **Entrada* e saída de dados**\n",
    "    ~~~javascript \n",
    "    //saída\n",
    "    console.log(\"Hello world!\")\n",
    "    //entrada (HTML)\n",
    "    var x = prompt(\"texto\") // caixa de entrada com texto padrão\n",
    "    // saída (HTML)\n",
    "    alert(\"texto\",x)\n",
    "        //ou\n",
    "    document.write(\"texto\",x)\n",
    "    ~~~\n",
    "    - [ ] **Estrutura de decisão**\n",
    "        * Controle de fluxo\n",
    "    ~~~javascript \n",
    "    // condicional\n",
    "    if(condition1){ // Se (Condição)\n",
    "        //bloco de codigo\n",
    "    }else if(condition2){ //senão se (condição)\n",
    "        // bloco de codigo\n",
    "    }else{ // Senão\n",
    "        //bloco de codigo\n",
    "    }\n",
    "    //Switch case\n",
    "    int var; // precisa de uma variável para comparar com os casos\n",
    "    switch(var){\n",
    "        case compara_com1:\n",
    "            //bloco de código\n",
    "            break;\n",
    "        case compara_com2:\n",
    "            //bloco de código\n",
    "            break;\n",
    "        default:\n",
    "            //bloco de código      \n",
    "    }\n",
    "    ~~~\n",
    "    - [ ] **Repeticão**\n",
    "        * Loop Infinito\n",
    "       ~~~javascript\n",
    "//Enquanto} ( condição )\n",
    "while(condition){\n",
    "    //bloco de código\n",
    "}\n",
    "//Para\n",
    "var i;\n",
    "for( atribuição; condição; interação){\n",
    "    //bloco de código\n",
    "}\n",
    "       ~~~\n",
    "    - [ ] Listas e vetores\n",
    "    - [ ] Matrizes\n",
    "    - [ ] Strings\n",
    "    - [ ] Funções\n",
    "\n",
    "**OBS:** JavaScript $\\neq$ Java\n",
    "\n",
    "### Links\n",
    "- [Repositório GitHub](https://github.com/HenrickyL/Monitoria_2020-1/tree/master/FuP%40PH)\n",
    "- [JavaScript](https://developer.mozilla.org/pt-BR/docs/Aprender/JavaScript)"
   ]
  },
  {
   "cell_type": "code",
   "execution_count": null,
   "metadata": {},
   "outputs": [],
   "source": []
  }
 ],
 "metadata": {
  "kernelspec": {
   "display_name": "Python 3",
   "language": "python",
   "name": "python3"
  },
  "language_info": {
   "codemirror_mode": {
    "name": "ipython",
    "version": 3
   },
   "file_extension": ".py",
   "mimetype": "text/x-python",
   "name": "python",
   "nbconvert_exporter": "python",
   "pygments_lexer": "ipython3",
   "version": "3.8.3"
  }
 },
 "nbformat": 4,
 "nbformat_minor": 4
}
